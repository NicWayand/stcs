{
 "cells": [
  {
   "cell_type": "code",
   "execution_count": 1,
   "metadata": {},
   "outputs": [],
   "source": [
    "'''\n",
    "\n",
    "This code is part of the SIPN2 project focused on improving sub-seasonal to seasonal predictions of Arctic Sea Ice. \n",
    "If you use this code for a publication or presentation, please cite the reference in the README.md on the\n",
    "main page (https://github.com/NicWayand/ESIO). \n",
    "\n",
    "Questions or comments should be addressed to nicway@uw.edu\n",
    "\n",
    "Copyright (c) 2018 Nic Wayand\n",
    "\n",
    "GNU General Public License v3.0\n",
    "\n",
    "\n",
    "'''\n",
    "\n",
    "%matplotlib inline\n",
    "%load_ext autoreload\n",
    "%autoreload\n",
    "import matplotlib.pyplot as plt\n",
    "import matplotlib\n",
    "import numpy as np\n",
    "import numpy.ma as ma\n",
    "import struct\n",
    "import os\n",
    "import xarray as xr\n",
    "import glob\n",
    "import datetime \n",
    "import cartopy.crs as ccrs\n",
    "from cartopy.mpl.gridliner import LONGITUDE_FORMATTER, LATITUDE_FORMATTER\n",
    "import seaborn as sns\n",
    "import pandas as pd\n",
    "import itertools\n",
    "import calendar\n",
    "\n",
    "# ESIO Imports\n",
    "\n",
    "from esio import EsioData as ed\n",
    "from esio import ice_plot\n",
    "from esio import metrics\n",
    "\n",
    "import dask\n",
    "dask.set_options(get=dask.threaded.get)\n",
    "# from dask.distributed import Client, progress\n",
    "# client = Client(processes=12)\n",
    "\n",
    "# General plotting settings\n",
    "sns.set_style('whitegrid')\n",
    "sns.set_context(\"talk\", font_scale=1.5, rc={\"lines.linewidth\": 2.5})\n",
    "\n",
    "plt.rcParams.update({'figure.max_open_warning': 0})\n",
    "\n",
    "#############################################################\n",
    "# Load in Data\n",
    "#############################################################\n",
    "E = ed.EsioData.load()\n",
    "data_dir = E.data_dir\n",
    "grid_dir = E.grid_dir\n",
    "fig_dir = os.path.join(E.fig_dir, 'metrics', 'extent')"
   ]
  },
  {
   "cell_type": "code",
   "execution_count": 2,
   "metadata": {},
   "outputs": [],
   "source": [
    "ds_region = xr.open_mfdataset(os.path.join(E.grid_dir, 'sio_2016_mask_Update.nc'))"
   ]
  },
  {
   "cell_type": "code",
   "execution_count": 3,
   "metadata": {},
   "outputs": [],
   "source": [
    "out_dir = '/home/disk/sipn/nicway/data/Director_data/RPackage/SIPN'"
   ]
  },
  {
   "cell_type": "code",
   "execution_count": 4,
   "metadata": {},
   "outputs": [
    {
     "data": {
      "text/plain": [
       "<xarray.Dataset>\n",
       "Dimensions:  (lat: 448, lon: 304, year: 1)\n",
       "Coordinates:\n",
       "  * year     (year) int32 31\n",
       "  * lon      (lon) int32 1 2 3 4 5 6 7 8 9 10 11 12 13 14 15 16 17 18 19 20 ...\n",
       "  * lat      (lat) int32 1 2 3 4 5 6 7 8 9 10 11 12 13 14 15 16 17 18 19 20 ...\n",
       "Data variables:\n",
       "    iceInd   (lat, lon, year) float32 ..."
      ]
     },
     "execution_count": 4,
     "metadata": {},
     "output_type": "execute_result"
    }
   ],
   "source": [
    "mod_adj_f = 'Mod_adj_test.nc'\n",
    "ds_mod_adj = xr.open_dataset(os.path.join(out_dir,mod_adj_f))\n",
    "ds_mod_adj"
   ]
  },
  {
   "cell_type": "code",
   "execution_count": 5,
   "metadata": {},
   "outputs": [
    {
     "data": {
      "text/plain": [
       "<xarray.Dataset>\n",
       "Dimensions:  (lat: 448, lon: 304, months: 43, years: 135)\n",
       "Coordinates:\n",
       "  * months   (months) int64 1 2 3 4 5 6 7 8 9 10 11 12 13 14 15 16 17 18 19 ...\n",
       "  * years    (years) int64 1 2 3 4 5 6 7 8 9 10 11 12 13 14 15 16 17 18 19 ...\n",
       "  * lon      (lon) int64 1 2 3 4 5 6 7 8 9 10 11 12 13 14 15 16 17 18 19 20 ...\n",
       "  * lat      (lat) int64 1 2 3 4 5 6 7 8 9 10 11 12 13 14 15 16 17 18 19 20 ...\n",
       "Data variables:\n",
       "    iceInd   (lat, lon, months, years) float64 ..."
      ]
     },
     "execution_count": 5,
     "metadata": {},
     "output_type": "execute_result"
    }
   ],
   "source": [
    "mod_f = 'Mod_test.nc'\n",
    "ds_mod = xr.open_dataset(os.path.join(out_dir,mod_f))\n",
    "ds_mod"
   ]
  },
  {
   "cell_type": "code",
   "execution_count": 6,
   "metadata": {},
   "outputs": [
    {
     "data": {
      "text/plain": [
       "<xarray.Dataset>\n",
       "Dimensions:  (lat: 448, lon: 304, months: 43, years: 135)\n",
       "Coordinates:\n",
       "  * months   (months) int64 1 2 3 4 5 6 7 8 9 10 11 12 13 14 15 16 17 18 19 ...\n",
       "  * lon      (lon) int64 1 2 3 4 5 6 7 8 9 10 11 12 13 14 15 16 17 18 19 20 ...\n",
       "  * lat      (lat) int64 1 2 3 4 5 6 7 8 9 10 11 12 13 14 15 16 17 18 19 20 ...\n",
       "  * years    (years) int64 1 2 3 4 5 6 7 8 9 10 11 12 13 14 15 16 17 18 19 ...\n",
       "Data variables:\n",
       "    conc     (lat, lon, months, years) float64 ..."
      ]
     },
     "execution_count": 6,
     "metadata": {},
     "output_type": "execute_result"
    }
   ],
   "source": [
    "obs_f = 'Obs_test.nc'\n",
    "ds_obs = xr.open_dataset(os.path.join(out_dir,obs_f))\n",
    "ds_obs"
   ]
  },
  {
   "cell_type": "code",
   "execution_count": 7,
   "metadata": {},
   "outputs": [],
   "source": [
    "# Select \"month\" (forecast day lead time) and \"year\" (initilization day) to plot\n",
    "cmonth = 43\n",
    "cpyear = 31"
   ]
  },
  {
   "cell_type": "code",
   "execution_count": 8,
   "metadata": {},
   "outputs": [
    {
     "data": {
      "text/plain": [
       "<xarray.Dataset>\n",
       "Dimensions:  (lat: 448, lon: 304, year: 1)\n",
       "Coordinates:\n",
       "  * year     (year) int32 31\n",
       "  * lon      (lon) int32 1 2 3 4 5 6 7 8 9 10 11 12 13 14 15 16 17 18 19 20 ...\n",
       "  * lat      (lat) int32 1 2 3 4 5 6 7 8 9 10 11 12 13 14 15 16 17 18 19 20 ...\n",
       "Data variables:\n",
       "    iceInd   (lat, lon, year) float32 ..."
      ]
     },
     "execution_count": 8,
     "metadata": {},
     "output_type": "execute_result"
    }
   ],
   "source": [
    "ds_mod_adj"
   ]
  },
  {
   "cell_type": "markdown",
   "metadata": {},
   "source": [
    "### Bias correction of the 43 day forecast, using the past 31 days of initialization forecasts\n",
    "### (not operationaly applicable, uses future obs)"
   ]
  },
  {
   "cell_type": "code",
   "execution_count": 9,
   "metadata": {},
   "outputs": [
    {
     "data": {
      "image/png": "[encoded data removed]",
      "text/plain": [
       "<Figure size 1440x432 with 6 Axes>"
      ]
     },
     "metadata": {},
     "output_type": "display_data"
    }
   ],
   "source": [
    "# Compare obs, model, adjusted model\n",
    "f = plt.figure(figsize=((20,6)))\n",
    "\n",
    "cmap_c = matplotlib.colors.ListedColormap(sns.color_palette(\"Blues_r\", 10))\n",
    "cmap_c.set_bad(color = 'lightgrey')\n",
    "\n",
    "plt.subplot(1,3,1)\n",
    "c_O = ds_obs.sel(years=cpyear, months=cmonth).conc\n",
    "c_O = ((c_O>=15) & (c_O<=100)).where(ds_obs.sel(years=cpyear, months=cmonth).conc<=100)\n",
    "c_O.plot(cmap=cmap_c)\n",
    "plt.title('Observed')\n",
    "\n",
    "plt.subplot(1,3,2)\n",
    "c_M = ds_mod.sel(years=cpyear, months=cmonth).iceInd\n",
    "(c_M>0.15).where(c_M.notnull()).plot(cmap=cmap_c)\n",
    "plt.title('Prediction \\n(original)')\n",
    "\n",
    "plt.subplot(1,3,3)\n",
    "c_M_a = ds_mod_adj.sel(year=cpyear).iceInd\n",
    "cmask = c_M_a.notnull()\n",
    "c_M_a = c_M_a.where(c_M_a<=1, other=0)\n",
    "c_M_a = c_M_a.where(cmask)\n",
    "c_M_a.plot(cmap=cmap_c)\n",
    "\n",
    "plt.title('Prediction \\n(after Contour Shifting)')\n",
    "f.savefig('CS_test.png')"
   ]
  },
  {
   "cell_type": "markdown",
   "metadata": {},
   "source": [
    "## Evaluate "
   ]
  },
  {
   "cell_type": "code",
   "execution_count": 10,
   "metadata": {},
   "outputs": [],
   "source": [
    "# PanArctic Extent\n"
   ]
  },
  {
   "cell_type": "code",
   "execution_count": 11,
   "metadata": {},
   "outputs": [],
   "source": [
    "# IIEE\n",
    "\n",
    "\n",
    "# Calcualte sea ice presence from obs and model\n",
    "obs_sip = ds_obs.sel(years=cpyear, months=cmonth).conc\n",
    "obs_sip = ((obs_sip>=15) & (obs_sip<=100)).where(ds_obs.sel(years=cpyear, months=cmonth).conc<=100)\n",
    "obs_sip = obs_sip.rename({'lat':'y','lon':'x'})\n",
    "\n",
    "mod_sip = ds_mod.sel(years=cpyear, months=cmonth).iceInd\n",
    "mod_sip = (mod_sip>0.15).where(mod_sip.notnull())\n",
    "mod_sip = mod_sip.rename({'lat':'y','lon':'x'})\n",
    "\n",
    "mod_sip_adj = ds_mod_adj.sel(year=cpyear).iceInd\n",
    "cmask = mod_sip_adj.notnull()\n",
    "mod_sip_adj = mod_sip_adj.where(c_M_a<=1, other=0)\n",
    "mod_sip_adj = mod_sip_adj.where(cmask)\n",
    "mod_sip_adj = mod_sip_adj.rename({'lat':'y','lon':'x'})\n",
    "\n",
    "# \"flip\" lat/y coordiant (CS and SIPN have different orientation)\n",
    "ds_region['mask'] = xr.DataArray(np.flip(ds_region.mask.values, axis=1), dims = ds_region.mask.dims, coords = ds_region.mask.coords)\n",
    "ds_region['area'] = xr.DataArray(np.flip(ds_region.area.values, axis=1), dims = ds_region.area.dims, coords = ds_region.area.coords)\n",
    "ds_region['hole_mask'] = xr.DataArray(np.flip(ds_region.hole_mask.values, axis=1), dims = ds_region.hole_mask.dims, coords = ds_region.hole_mask.coords)\n"
   ]
  },
  {
   "cell_type": "code",
   "execution_count": null,
   "metadata": {},
   "outputs": [],
   "source": []
  },
  {
   "cell_type": "code",
   "execution_count": null,
   "metadata": {},
   "outputs": [],
   "source": []
  },
  {
   "cell_type": "markdown",
   "metadata": {},
   "source": [
    "### Original Model IIEE"
   ]
  },
  {
   "cell_type": "code",
   "execution_count": 14,
   "metadata": {},
   "outputs": [
    {
     "data": {
      "text/plain": [
       "array(2.11446735)"
      ]
     },
     "execution_count": 14,
     "metadata": {},
     "output_type": "execute_result"
    }
   ],
   "source": [
    "%autoreload\n",
    "c_IIEE_orig = metrics.IIEE(da_mod=mod_sip, da_obs=obs_sip, region=ds_region, sic_threshold=0.15)\n",
    "c_IIEE_orig.values # km^2"
   ]
  },
  {
   "cell_type": "markdown",
   "metadata": {},
   "source": [
    "### Original Model IIEE"
   ]
  },
  {
   "cell_type": "code",
   "execution_count": 15,
   "metadata": {},
   "outputs": [
    {
     "data": {
      "text/plain": [
       "array(1.90314647)"
      ]
     },
     "execution_count": 15,
     "metadata": {},
     "output_type": "execute_result"
    }
   ],
   "source": [
    "c_IIEE_adj = metrics.IIEE(da_mod=mod_sip_adj, da_obs=obs_sip, region=ds_region, sic_threshold=0.15)\n",
    "c_IIEE_adj.values # km^2"
   ]
  },
  {
   "cell_type": "code",
   "execution_count": 16,
   "metadata": {},
   "outputs": [],
   "source": [
    "### Percent IIEE Reductoin"
   ]
  },
  {
   "cell_type": "code",
   "execution_count": 17,
   "metadata": {},
   "outputs": [
    {
     "data": {
      "text/plain": [
       "-9.994048043684026"
      ]
     },
     "execution_count": 17,
     "metadata": {},
     "output_type": "execute_result"
    }
   ],
   "source": [
    "(c_IIEE_adj.values-c_IIEE_orig.values)/c_IIEE_orig.values*100"
   ]
  },
  {
   "cell_type": "code",
   "execution_count": null,
   "metadata": {},
   "outputs": [],
   "source": []
  },
  {
   "cell_type": "code",
   "execution_count": null,
   "metadata": {},
   "outputs": [],
   "source": []
  }
 ],
 "metadata": {
  "kernelspec": {
   "display_name": "3.6.4 esio",
   "language": "python",
   "name": "esio"
  },
  "language_info": {
   "codemirror_mode": {
    "name": "ipython",
    "version": 3
   },
   "file_extension": ".py",
   "mimetype": "text/x-python",
   "name": "python",
   "nbconvert_exporter": "python",
   "pygments_lexer": "ipython3",
   "version": "3.6.4"
  }
 },
 "nbformat": 4,
 "nbformat_minor": 2
}
